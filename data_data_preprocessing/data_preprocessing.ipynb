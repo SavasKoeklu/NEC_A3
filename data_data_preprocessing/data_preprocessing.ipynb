{
 "cells": [
  {
   "cell_type": "code",
   "execution_count": 15,
   "metadata": {},
   "outputs": [],
   "source": [
    "import pandas as pd\n",
    "import numpy as np\n",
    "import matplotlib.pyplot as plt"
   ]
  },
  {
   "cell_type": "code",
   "execution_count": 16,
   "metadata": {},
   "outputs": [
    {
     "data": {
      "text/html": [
       "<div>\n",
       "<style scoped>\n",
       "    .dataframe tbody tr th:only-of-type {\n",
       "        vertical-align: middle;\n",
       "    }\n",
       "\n",
       "    .dataframe tbody tr th {\n",
       "        vertical-align: top;\n",
       "    }\n",
       "\n",
       "    .dataframe thead th {\n",
       "        text-align: right;\n",
       "    }\n",
       "</style>\n",
       "<table border=\"1\" class=\"dataframe\">\n",
       "  <thead>\n",
       "    <tr style=\"text-align: right;\">\n",
       "      <th></th>\n",
       "      <th>x</th>\n",
       "      <th>y</th>\n",
       "      <th>z</th>\n",
       "      <th>t</th>\n",
       "      <th>class</th>\n",
       "    </tr>\n",
       "  </thead>\n",
       "  <tbody>\n",
       "    <tr>\n",
       "      <th>0</th>\n",
       "      <td>-0.031676</td>\n",
       "      <td>-9.912054</td>\n",
       "      <td>-0.579436</td>\n",
       "      <td>-1.044239</td>\n",
       "      <td>1</td>\n",
       "    </tr>\n",
       "    <tr>\n",
       "      <th>1</th>\n",
       "      <td>0.002526</td>\n",
       "      <td>6.172456</td>\n",
       "      <td>3.288339</td>\n",
       "      <td>-1.006427</td>\n",
       "      <td>5</td>\n",
       "    </tr>\n",
       "    <tr>\n",
       "      <th>2</th>\n",
       "      <td>0.183123</td>\n",
       "      <td>-0.387841</td>\n",
       "      <td>6.236470</td>\n",
       "      <td>-1.691491</td>\n",
       "      <td>2</td>\n",
       "    </tr>\n",
       "    <tr>\n",
       "      <th>3</th>\n",
       "      <td>-0.042262</td>\n",
       "      <td>-1.996272</td>\n",
       "      <td>-1.655302</td>\n",
       "      <td>-2.995311</td>\n",
       "      <td>1</td>\n",
       "    </tr>\n",
       "    <tr>\n",
       "      <th>4</th>\n",
       "      <td>-0.062811</td>\n",
       "      <td>-0.417072</td>\n",
       "      <td>6.657475</td>\n",
       "      <td>-3.633134</td>\n",
       "      <td>4</td>\n",
       "    </tr>\n",
       "  </tbody>\n",
       "</table>\n",
       "</div>"
      ],
      "text/plain": [
       "          x         y         z         t  class\n",
       "0 -0.031676 -9.912054 -0.579436 -1.044239      1\n",
       "1  0.002526  6.172456  3.288339 -1.006427      5\n",
       "2  0.183123 -0.387841  6.236470 -1.691491      2\n",
       "3 -0.042262 -1.996272 -1.655302 -2.995311      1\n",
       "4 -0.062811 -0.417072  6.657475 -3.633134      4"
      ]
     },
     "execution_count": 16,
     "metadata": {},
     "output_type": "execute_result"
    }
   ],
   "source": [
    "df = pd.read_csv(\"A3-data.txt\")\n",
    "df_processed = df.copy()\n",
    "\n",
    "df.head()"
   ]
  },
  {
   "cell_type": "code",
   "execution_count": 17,
   "metadata": {},
   "outputs": [
    {
     "data": {
      "text/plain": [
       "(360, 5)"
      ]
     },
     "execution_count": 17,
     "metadata": {},
     "output_type": "execute_result"
    }
   ],
   "source": [
    "df.shape"
   ]
  },
  {
   "cell_type": "code",
   "execution_count": 18,
   "metadata": {},
   "outputs": [
    {
     "data": {
      "text/html": [
       "<div>\n",
       "<style scoped>\n",
       "    .dataframe tbody tr th:only-of-type {\n",
       "        vertical-align: middle;\n",
       "    }\n",
       "\n",
       "    .dataframe tbody tr th {\n",
       "        vertical-align: top;\n",
       "    }\n",
       "\n",
       "    .dataframe thead th {\n",
       "        text-align: right;\n",
       "    }\n",
       "</style>\n",
       "<table border=\"1\" class=\"dataframe\">\n",
       "  <thead>\n",
       "    <tr style=\"text-align: right;\">\n",
       "      <th></th>\n",
       "      <th>x</th>\n",
       "      <th>y</th>\n",
       "      <th>z</th>\n",
       "      <th>t</th>\n",
       "      <th>class</th>\n",
       "    </tr>\n",
       "  </thead>\n",
       "  <tbody>\n",
       "    <tr>\n",
       "      <th>count</th>\n",
       "      <td>360.000000</td>\n",
       "      <td>360.000000</td>\n",
       "      <td>360.000000</td>\n",
       "      <td>360.000000</td>\n",
       "      <td>360.000000</td>\n",
       "    </tr>\n",
       "    <tr>\n",
       "      <th>mean</th>\n",
       "      <td>0.030880</td>\n",
       "      <td>0.685121</td>\n",
       "      <td>3.973543</td>\n",
       "      <td>-0.318865</td>\n",
       "      <td>3.516667</td>\n",
       "    </tr>\n",
       "    <tr>\n",
       "      <th>std</th>\n",
       "      <td>0.377520</td>\n",
       "      <td>4.900030</td>\n",
       "      <td>4.050409</td>\n",
       "      <td>3.321348</td>\n",
       "      <td>1.931919</td>\n",
       "    </tr>\n",
       "    <tr>\n",
       "      <th>min</th>\n",
       "      <td>-0.819698</td>\n",
       "      <td>-9.912054</td>\n",
       "      <td>-4.573732</td>\n",
       "      <td>-7.954909</td>\n",
       "      <td>1.000000</td>\n",
       "    </tr>\n",
       "    <tr>\n",
       "      <th>25%</th>\n",
       "      <td>-0.140746</td>\n",
       "      <td>-2.033918</td>\n",
       "      <td>0.610788</td>\n",
       "      <td>-2.694196</td>\n",
       "      <td>2.000000</td>\n",
       "    </tr>\n",
       "    <tr>\n",
       "      <th>50%</th>\n",
       "      <td>0.002011</td>\n",
       "      <td>0.214840</td>\n",
       "      <td>4.988976</td>\n",
       "      <td>-0.246234</td>\n",
       "      <td>3.000000</td>\n",
       "    </tr>\n",
       "    <tr>\n",
       "      <th>75%</th>\n",
       "      <td>0.242461</td>\n",
       "      <td>4.182701</td>\n",
       "      <td>7.123379</td>\n",
       "      <td>1.665129</td>\n",
       "      <td>6.000000</td>\n",
       "    </tr>\n",
       "    <tr>\n",
       "      <th>max</th>\n",
       "      <td>0.922136</td>\n",
       "      <td>10.812646</td>\n",
       "      <td>11.604825</td>\n",
       "      <td>7.976116</td>\n",
       "      <td>6.000000</td>\n",
       "    </tr>\n",
       "  </tbody>\n",
       "</table>\n",
       "</div>"
      ],
      "text/plain": [
       "                x           y           z           t       class\n",
       "count  360.000000  360.000000  360.000000  360.000000  360.000000\n",
       "mean     0.030880    0.685121    3.973543   -0.318865    3.516667\n",
       "std      0.377520    4.900030    4.050409    3.321348    1.931919\n",
       "min     -0.819698   -9.912054   -4.573732   -7.954909    1.000000\n",
       "25%     -0.140746   -2.033918    0.610788   -2.694196    2.000000\n",
       "50%      0.002011    0.214840    4.988976   -0.246234    3.000000\n",
       "75%      0.242461    4.182701    7.123379    1.665129    6.000000\n",
       "max      0.922136   10.812646   11.604825    7.976116    6.000000"
      ]
     },
     "execution_count": 18,
     "metadata": {},
     "output_type": "execute_result"
    }
   ],
   "source": [
    "# looking at the scale of the values\n",
    "df.describe()"
   ]
  },
  {
   "cell_type": "code",
   "execution_count": 24,
   "metadata": {},
   "outputs": [
    {
     "data": {
      "text/plain": [
       "x        0\n",
       "y        0\n",
       "z        0\n",
       "t        0\n",
       "class    0\n",
       "dtype: int64"
      ]
     },
     "execution_count": 24,
     "metadata": {},
     "output_type": "execute_result"
    }
   ],
   "source": [
    "# check for missing values\n",
    "df.isnull().sum()"
   ]
  },
  {
   "cell_type": "markdown",
   "metadata": {},
   "source": [
    "We see there are no missing values, we looked also through the data and we not found any represantion for missing values. Since all fields are numerical, we not need to convert any strings."
   ]
  },
  {
   "cell_type": "code",
   "execution_count": 25,
   "metadata": {},
   "outputs": [
    {
     "data": {
      "text/html": [
       "<div>\n",
       "<style scoped>\n",
       "    .dataframe tbody tr th:only-of-type {\n",
       "        vertical-align: middle;\n",
       "    }\n",
       "\n",
       "    .dataframe tbody tr th {\n",
       "        vertical-align: top;\n",
       "    }\n",
       "\n",
       "    .dataframe thead th {\n",
       "        text-align: right;\n",
       "    }\n",
       "</style>\n",
       "<table border=\"1\" class=\"dataframe\">\n",
       "  <thead>\n",
       "    <tr style=\"text-align: right;\">\n",
       "      <th></th>\n",
       "      <th>x</th>\n",
       "      <th>y</th>\n",
       "      <th>z</th>\n",
       "      <th>t</th>\n",
       "      <th>class</th>\n",
       "    </tr>\n",
       "  </thead>\n",
       "  <tbody>\n",
       "    <tr>\n",
       "      <th>count</th>\n",
       "      <td>360.000000</td>\n",
       "      <td>360.000000</td>\n",
       "      <td>360.000000</td>\n",
       "      <td>360.000000</td>\n",
       "      <td>360.000000</td>\n",
       "    </tr>\n",
       "    <tr>\n",
       "      <th>mean</th>\n",
       "      <td>0.030880</td>\n",
       "      <td>0.685121</td>\n",
       "      <td>3.973543</td>\n",
       "      <td>-0.318865</td>\n",
       "      <td>3.516667</td>\n",
       "    </tr>\n",
       "    <tr>\n",
       "      <th>std</th>\n",
       "      <td>0.377520</td>\n",
       "      <td>4.900030</td>\n",
       "      <td>4.050409</td>\n",
       "      <td>3.321348</td>\n",
       "      <td>1.931919</td>\n",
       "    </tr>\n",
       "    <tr>\n",
       "      <th>min</th>\n",
       "      <td>-0.819698</td>\n",
       "      <td>-9.912054</td>\n",
       "      <td>-4.573732</td>\n",
       "      <td>-7.954909</td>\n",
       "      <td>1.000000</td>\n",
       "    </tr>\n",
       "    <tr>\n",
       "      <th>25%</th>\n",
       "      <td>-0.140746</td>\n",
       "      <td>-2.033918</td>\n",
       "      <td>0.610788</td>\n",
       "      <td>-2.694196</td>\n",
       "      <td>2.000000</td>\n",
       "    </tr>\n",
       "    <tr>\n",
       "      <th>50%</th>\n",
       "      <td>0.002011</td>\n",
       "      <td>0.214840</td>\n",
       "      <td>4.988976</td>\n",
       "      <td>-0.246234</td>\n",
       "      <td>3.000000</td>\n",
       "    </tr>\n",
       "    <tr>\n",
       "      <th>75%</th>\n",
       "      <td>0.242461</td>\n",
       "      <td>4.182701</td>\n",
       "      <td>7.123379</td>\n",
       "      <td>1.665129</td>\n",
       "      <td>6.000000</td>\n",
       "    </tr>\n",
       "    <tr>\n",
       "      <th>max</th>\n",
       "      <td>0.922136</td>\n",
       "      <td>10.812646</td>\n",
       "      <td>11.604825</td>\n",
       "      <td>7.976116</td>\n",
       "      <td>6.000000</td>\n",
       "    </tr>\n",
       "  </tbody>\n",
       "</table>\n",
       "</div>"
      ],
      "text/plain": [
       "                x           y           z           t       class\n",
       "count  360.000000  360.000000  360.000000  360.000000  360.000000\n",
       "mean     0.030880    0.685121    3.973543   -0.318865    3.516667\n",
       "std      0.377520    4.900030    4.050409    3.321348    1.931919\n",
       "min     -0.819698   -9.912054   -4.573732   -7.954909    1.000000\n",
       "25%     -0.140746   -2.033918    0.610788   -2.694196    2.000000\n",
       "50%      0.002011    0.214840    4.988976   -0.246234    3.000000\n",
       "75%      0.242461    4.182701    7.123379    1.665129    6.000000\n",
       "max      0.922136   10.812646   11.604825    7.976116    6.000000"
      ]
     },
     "execution_count": 25,
     "metadata": {},
     "output_type": "execute_result"
    }
   ],
   "source": [
    "df.describe()"
   ]
  },
  {
   "cell_type": "markdown",
   "metadata": {},
   "source": [
    "We can see the different values for the features x,y,z,t,class. Have an smilar range, so no need to proprocess them"
   ]
  },
  {
   "cell_type": "code",
   "execution_count": 27,
   "metadata": {},
   "outputs": [
    {
     "data": {
      "image/png": "[encoded data removed]",
      "text/plain": [
       "<Figure size 640x480 with 6 Axes>"
      ]
     },
     "metadata": {},
     "output_type": "display_data"
    }
   ],
   "source": [
    "\n",
    "df.hist()\n",
    "pass"
   ]
  },
  {
   "cell_type": "code",
   "execution_count": 28,
   "metadata": {},
   "outputs": [],
   "source": [
    "df_processed.to_csv(\"data-preprocessed.csv\", index=False)"
   ]
  }
 ],
 "metadata": {
  "kernelspec": {
   "display_name": "Python 3",
   "language": "python",
   "name": "python3"
  },
  "language_info": {
   "codemirror_mode": {
    "name": "ipython",
    "version": 3
   },
   "file_extension": ".py",
   "mimetype": "text/x-python",
   "name": "python",
   "nbconvert_exporter": "python",
   "pygments_lexer": "ipython3",
   "version": "3.11.7"
  }
 },
 "nbformat": 4,
 "nbformat_minor": 2
}
